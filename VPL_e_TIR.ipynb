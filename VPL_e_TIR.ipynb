{
  "nbformat": 4,
  "nbformat_minor": 0,
  "metadata": {
    "colab": {
      "name": "VPL e TIR.ipynb",
      "provenance": [],
      "include_colab_link": true
    },
    "kernelspec": {
      "display_name": "Python 3.7.7 64-bit",
      "name": "python37764bitd5d34ce7c12f49f9a3325ffa8d3757ab"
    },
    "language_info": {
      "codemirror_mode": {
        "name": "ipython",
        "version": 3
      },
      "file_extension": ".py",
      "mimetype": "text/x-python",
      "name": "python",
      "nbconvert_exporter": "python",
      "pygments_lexer": "ipython3",
      "version": "3.7.7-final"
    }
  },
  "cells": [
    {
      "cell_type": "markdown",
      "metadata": {
        "id": "view-in-github",
        "colab_type": "text"
      },
      "source": [
        "<a href=\"https://colab.research.google.com/github/vhppacheco/Fundamentos-de-Valuation/blob/main/VPL_e_TIR.ipynb\" target=\"_parent\"><img src=\"https://colab.research.google.com/assets/colab-badge.svg\" alt=\"Open In Colab\"/></a>"
      ]
    },
    {
      "cell_type": "markdown",
      "metadata": {
        "id": "A4ikdxQQ5ZVL"
      },
      "source": [
        "#**Métodos de Avaliação de Investimentos**"
      ]
    },
    {
      "cell_type": "markdown",
      "metadata": {
        "id": "8nXf4qDk5ZVm"
      },
      "source": [
        "## VPL - Valor Presente Líquido"
      ]
    },
    {
      "cell_type": "markdown",
      "metadata": {
        "id": "mvRbBd565ZVq"
      },
      "source": [
        "#### O método do Valor Presente Líquido (VPL) se baseia na metodologia do fluxo de caixa descontado. Ele mede o Valor Presente (VP) dos fluxos de caixa futuros (VF) gerados pela empresa / projeto ao longo de sua vida útil, descontado a uma taxa que representa seu custo de oportunidade, diminuindo o valor do investimento inicial. Critério de decisão: Se o VPL > 0, ou seja, se for superior ao investimento realizado (também na mesma data), o projeto é economicamente viável. Se o VPL <0, o mesmo deve ser rejeitado.\r\n",
        "![Fórmula-VPL.png](data:image/png;base64,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)"
      ]
    },
    {
      "cell_type": "code",
      "metadata": {
        "colab": {
          "background_save": true
        },
        "id": "CylrBjvj5ZVs"
      },
      "source": [
        "import numpy as np \n",
        "import matplotlib.pyplot as plt \n",
        "import warnings\n",
        "warnings.filterwarnings('ignore')"
      ],
      "execution_count": null,
      "outputs": []
    },
    {
      "cell_type": "markdown",
      "metadata": {
        "id": "qhbw_P8o5ZVu"
      },
      "source": [
        "### Exemplo 1 - Comparando Investimentos\r\n"
      ]
    },
    {
      "cell_type": "markdown",
      "metadata": {
        "id": "Jp7JftDZNHW8"
      },
      "source": [
        "A.O Tesouro Selic 2023 prefixado que custa 10.729,56 reais e rende 4,39% ao ano para vencer daqui 2 anos.\r\n",
        "\r\n",
        "B. Uma cota de fundo imobiliário que paga 0,7% ao mês durante 2 anos e custa  15 mil reais. Considera-se que a variação do preço da cota ao final do período seja 0.\r\n",
        "\r\n",
        "\r\n"
      ]
    },
    {
      "cell_type": "markdown",
      "metadata": {
        "id": "H_-zvGT7j2Wb"
      },
      "source": [
        "A. Tesouro Selic"
      ]
    },
    {
      "cell_type": "code",
      "metadata": {
        "colab": {
          "background_save": true
        },
        "id": "2kuqSQKl5ZVv"
      },
      "source": [
        "def VPL_tesouro(taxa, fluxo_caixa):\n",
        "    total = 0.0\n",
        "    for i, fluxo_caixa in enumerate (fluxo_caixa):\n",
        "        total += fluxo_caixa/(1 + taxa)**i\n",
        "    return total"
      ],
      "execution_count": null,
      "outputs": []
    },
    {
      "cell_type": "markdown",
      "metadata": {
        "id": "1J5HKCHVm5y1"
      },
      "source": [
        "Convertendo a taxa (anual para mensal) e obtendo o rendimento mensal do título"
      ]
    },
    {
      "cell_type": "code",
      "metadata": {
        "colab": {
          "background_save": true,
          "base_uri": "https://localhost:8080/"
        },
        "id": "mdr3gzDW3zK1",
        "outputId": "1272e2d7-fea8-41a8-ca19-f4e968f0b4df"
      },
      "source": [
        "taxa = ((1+0.0439)**(1/12))-1\r\n",
        "rendimento_mensal = 10729.56*taxa\r\n",
        "print(f'A taxa e o rendimento mensal são de: {taxa*100}% e {rendimento_mensal}')"
      ],
      "execution_count": null,
      "outputs": [
        {
          "output_type": "stream",
          "text": [
            "A taxa e o rendimento mensal são de: 0.3586725245666944% e 38.48398372689822\n"
          ],
          "name": "stdout"
        }
      ]
    },
    {
      "cell_type": "code",
      "metadata": {
        "colab": {
          "base_uri": "https://localhost:8080/"
        },
        "id": "HvDvBamW5ZVx",
        "outputId": "efbdafc0-f29f-4436-a4b2-e2e4a438dac8"
      },
      "source": [
        "fluxo_caixa = [-10729.56,38.48,38.48,38.48,38.48,38.48,38.48,38.48,38.48,38.48,38.48,38.48,38.48,38.48,38.48,38.48,38.48,38.48,38.48,38.48,38.48,38.48,38.48,38.48,10768.04]\n",
        "print('O VPL do Investimento é ',VPL_tesouro(taxa, fluxo_caixa))"
      ],
      "execution_count": 45,
      "outputs": [
        {
          "output_type": "stream",
          "text": [
            "O VPL do Investimento é  -0.09145297063878388\n"
          ],
          "name": "stdout"
        }
      ]
    },
    {
      "cell_type": "markdown",
      "metadata": {
        "id": "xLGL7qlhkUUV"
      },
      "source": [
        "B. Fundo Imobiliário"
      ]
    },
    {
      "cell_type": "code",
      "metadata": {
        "colab": {
          "background_save": true
        },
        "id": "9cKwQZmhWn_y"
      },
      "source": [
        "def VPL_fundo(taxa1, fluxo_caixa1):\r\n",
        "    total = 0.0\r\n",
        "    for i, fluxo_caixa1 in enumerate (fluxo_caixa1):\r\n",
        "        total += fluxo_caixa1/(1 + taxa1)**i\r\n",
        "    return total"
      ],
      "execution_count": null,
      "outputs": []
    },
    {
      "cell_type": "markdown",
      "metadata": {
        "id": "0fgSHb3apF4n"
      },
      "source": [
        "Cálculo dos recebimentos mensais do fundo"
      ]
    },
    {
      "cell_type": "code",
      "metadata": {
        "colab": {
          "background_save": true,
          "base_uri": "https://localhost:8080/"
        },
        "id": "D9cmyR0XzAdy",
        "outputId": "ec0220a9-b197-4d41-9ed6-6687cff1ac57"
      },
      "source": [
        "recebimentos_mensais = 15000*0.007\r\n",
        "recebimentos_mensais"
      ],
      "execution_count": null,
      "outputs": [
        {
          "output_type": "execute_result",
          "data": {
            "text/plain": [
              "105.0"
            ]
          },
          "metadata": {
            "tags": []
          },
          "execution_count": 0
        }
      ]
    },
    {
      "cell_type": "markdown",
      "metadata": {
        "id": "3soyblyJCnWt"
      },
      "source": [
        "Como se trata de um fundo imobiliário e, portanto, oferece mais risco que o título do governo, o investidor exige um retorno maior.\r\n",
        "Neste exemplo usaremos uma taxa 10% maior que a taxa de atratividade do tesouro (4,39% a.a)\r\n"
      ]
    },
    {
      "cell_type": "code",
      "metadata": {
        "colab": {
          "background_save": true,
          "base_uri": "https://localhost:8080/"
        },
        "id": "JQpBx6nuhUsu",
        "outputId": "ca562914-205a-4c28-8bc3-60d86f8a9f1c"
      },
      "source": [
        "taxa1 = taxa*1.1\r\n",
        "taxa1"
      ],
      "execution_count": null,
      "outputs": [
        {
          "output_type": "execute_result",
          "data": {
            "text/plain": [
              "0.003945397770233639"
            ]
          },
          "metadata": {
            "tags": []
          },
          "execution_count": 0
        }
      ]
    },
    {
      "cell_type": "code",
      "metadata": {
        "colab": {
          "base_uri": "https://localhost:8080/"
        },
        "id": "mGAD1PpcWtem",
        "outputId": "7d146aee-0d7e-4b97-c801-96ac25bd9744"
      },
      "source": [
        "fluxo_caixa1 = [-15000, 105,105,105,105,105,105,105,105,105,105,105,105,105,105,105,105,105,105,105,105,105,105,105,15105]\r\n",
        "print('O VPL do Investimento é ',VPL_fundo(taxa1, fluxo_caixa1))"
      ],
      "execution_count": 46,
      "outputs": [
        {
          "output_type": "stream",
          "text": [
            "O VPL do Investimento é  1047.230583698758\n"
          ],
          "name": "stdout"
        }
      ]
    },
    {
      "cell_type": "markdown",
      "metadata": {
        "id": "qyh57fhLEIOB"
      },
      "source": [
        "## O Numpy oferece o *npv* que possibilita o cálculo do VPL sem a necessidade de definirmos uma função. Segue a aplicação no Exemplo 1"
      ]
    },
    {
      "cell_type": "markdown",
      "metadata": {
        "id": "TV-rq2RIpaH0"
      },
      "source": [
        "## Para o Tesouro"
      ]
    },
    {
      "cell_type": "code",
      "metadata": {
        "colab": {
          "background_save": true
        },
        "id": "zfnKLR0c5ZV1"
      },
      "source": [
        "NPV_tesouro = np.npv(taxa, fluxo_caixa)"
      ],
      "execution_count": null,
      "outputs": []
    },
    {
      "cell_type": "code",
      "metadata": {
        "colab": {
          "background_save": true,
          "base_uri": "https://localhost:8080/"
        },
        "id": "TCsfUxxi5ZV3",
        "outputId": "c9f8af57-f3f0-437c-bf6b-0adb98acfafc"
      },
      "source": [
        "NPV_tesouro"
      ],
      "execution_count": null,
      "outputs": [
        {
          "output_type": "execute_result",
          "data": {
            "text/plain": [
              "-0.09145297063696489"
            ]
          },
          "metadata": {
            "tags": []
          },
          "execution_count": 0
        }
      ]
    },
    {
      "cell_type": "markdown",
      "metadata": {
        "id": "zmIBOrZOpi21"
      },
      "source": [
        "## Para o Fundo"
      ]
    },
    {
      "cell_type": "code",
      "metadata": {
        "colab": {
          "background_save": true
        },
        "id": "KTVDObhWEh5V"
      },
      "source": [
        "NPV_fundo = np.npv(taxa1, fluxo_caixa1)"
      ],
      "execution_count": null,
      "outputs": []
    },
    {
      "cell_type": "code",
      "metadata": {
        "colab": {
          "background_save": true,
          "base_uri": "https://localhost:8080/"
        },
        "id": "-_zVd5spEog2",
        "outputId": "f73e44c8-88ec-4cbd-d2e1-4b71c606e00f"
      },
      "source": [
        "NPV_fundo"
      ],
      "execution_count": null,
      "outputs": [
        {
          "output_type": "execute_result",
          "data": {
            "text/plain": [
              "1047.2305836987562"
            ]
          },
          "metadata": {
            "tags": []
          },
          "execution_count": 0
        }
      ]
    },
    {
      "cell_type": "markdown",
      "metadata": {
        "id": "HsnEF_0r5ZWP"
      },
      "source": [
        "## TIR - Taxa Interna de Retorno"
      ]
    },
    {
      "cell_type": "markdown",
      "metadata": {
        "id": "nuYDY8No5ZWR"
      },
      "source": [
        "#### A TIR, a Taxa Interna de Retorno de um empreendimento, é uma medida relativa (%) — que demonstra o quanto rende um investimento (encontrar uma taxa intrínseca de rendimento), considerando a mesma periodicidade dos fluxos de caixa. Matematicamente, a TIR é uma taxa hipotética que iguala o Valor Presente (VP) das entradas do fluxo esperado do projeto ao valor presente dos custos esperados do projeto ou, em outras palavras, que força o VPL ser igual a zero.Deve-se aceitar o projeto se a TIR for > custo de oportunidade do capital e rejeitá-lo se a TIR for < que a taxa de desconto\r\n",
        "![TIRpng.png](data:image/png;base64,iVBORw0KGgoAAAANSUhEUgAAAZAAAACaCAAAAACiOEHCAAAABGdBTUEAALGPC/xhBQAAACBjSFJNAAB6JgAAgIQAAPoAAACA6AAAdTAAAOpgAAA6mAAAF3CculE8AAAAAmJLR0QA/4ePzL8AAAAJcEhZcwAADsMAAA7DAcdvqGQAAAAHdElNRQfjBRwOHyab4gKyAAAafklEQVR42u2deUBMax/Hj3vf695kade+kaKFlKSQm9xCXBRa7ctru1GEKGmhQtYstyzXq1AqEmlT2ZJMC2nX1DRpb1pnP+e8Z2YqMzWlzKSZ7nz/4HTOmXOe5/k8y+95nt/zHAAWiKcEDHcABGKVAAiPSQCExyQAwmMSAOExCYDwmARAeEwCIDwmARAekwAIj0kAhMckAMJjEgDhMQmA8JgEQHhMAiA8JgEQHtPIAEKoyUehUNk5Wci/H8qbweEODwcaGUAwEfvtHB3t7RwcHW03BaFIwx0eDjQygKS7rF7vvstM2dLLc5mGZ44AyHDr4ZKt119fXi69O+v9PpXTGMpwh4cDjQwgd+Zeq24MXj7/Cp50yzKyTdCGDLcyL3yEKWd+t4uB4U93i6jQcIeHA40MICDCoH3/dOeXMAzxNY6RAgQRWGE/JbBwuEPBuUYMkLb0P6ZENgx3KDjXiAFSc99IL4OfW/NOjRggZedMlpcMdyC4oBEDJNf5j91Vwx0ILmjEAEmztDhZN9yB4IJGDJAYzSW3cMMdCC5ohAChlPmIzbmAHe5gcEEjBEjz8am/jFue2jrc4eBcIwRI20XbtdYHM1qGOxyca4QAoRS+fvM6u4bI/SeDZBKTyBSmgRmQgpyhcHmkZoQAgfCtra3tpCHoGLaiiwoLC/JpKigsKK3Gf73UUVX4qYTbmWCEABk6lYaeOHzU59TZ8+fO+3u4XX7X1Hm+9dOjq4Hn/H0CrsaUk7hYSgRAvqF3ztN+Gzfdco2tja2p6tiFjxh9HajljZeR+qxVS2ZMnKAf1crFkikA8g01JqwQ+nlTdHxiYtL1zaJGaQxDruJ/NoaL3e7ExQfNF1aNhQUl5Aeqeae4dDA9xavvGlkXU5EDsDlilbLxuU9Iwag5ZrzwLTdfJwDyLdUuHz0rmn7U9OIv32baQWvqJhnTi9W0qbCmh8ePF3HzdQIg3xD14wIRuxf0Q1L1SxTdf+KzyyRJz3zGuYosVDM338efQEA8JjcnNzc3J7tP5eTk5nzEtHJcu+PiDVSO5yEHVGKXM0tbnN4Y4wRwaKaK+RMIIf+YjpaOjo62lpYme2lpaetozjn6gmMXrcrb2tNvY5Gi0FhWyzgD5XgqTD3G1XqKSfwJhIzxkAIQya7atmsnO+3Y+LssAPzHNobA6avyvFUMoktrK5P+Dk5nWLdQuLmw+dMmDp/bl/gTCAw/s5MBRv3n96gqMoWdiPUx2xSAceufcAwkbb2U/vWnsXe3GW18yKiziCdlRm8uIw9RxPgVSF30/F9HAQrrkvvok0EtKdZi49dxDiTKUGSy7RZ7c2Ul1zc0kxcmo3cIyXq1D1XE+BUIXHVCHwB+UTqW31cr0XBKT8SRYyCUKwrKlh5+7psnyV5E0+G3pK0cY3yTOlTx4lsgxGJ3EQAYbXalpo8bWuPXijpwCoRS7SG64Go9ublgw5SoNrpdVRO6QGzdMwGQnoJISetkAEB0WWIf3QBikZOYPadA8KjtojaxSNtBDFiRyThVdW2O1N7XQ+ZwxLdAkC50lNnoUYCMyyv2lRbY7DHBJpZDIM3Rf4rvzaC9IOnaF8YpbJCBrPcHViBQa1UZjjux4mMgcI371NHALwrHMH1YPIETHZ9yCKTurIHkKfryho7mzn4h9vIspasVnb1CiPE/+f2ts++4Eyl+BkJJ3ycKAD+ZhvTh/oMKelLGYV3/Zb+i5P/ILH1y7CV9pauYzlMtNfTMQL2+/TiKO5HiZyAQNX7BeACQWvlyqDoFcMnaCZOesZ76EjJHzq+ADoRcnRqHQ1qztoJts50elVdxw8eCn4EgDWyoCQCMUnbPHCKjh/TSQGRJOuu5xlgLiR2pdCCYCw67y2BK1dP900RmrHAKeMOF4S3+BkLBeE0bDfyqd7p+SEb6SPmBSqPnPcCxtODEkr0KM4++r6xBvz1ror8bDZMrHu5Rklj9l/ulzH89EJjyer88AABLk4ZiaIlSe89GdvRkzyxWM45631JhwYmIJ2FuZnKLg+tgat3b8zq699Lf5dZ854uYxedA4I6kpWIAIGv/aghGw9syvBfp6RjtiMaznq9L8XCwdty4ztFh46XsDhii5AUa/llIaG3nxupffgcC11yY+xPwk4J3HveX3nbk3fPzDzgT0qujQ84OPentfeJS6NNPzbTWK/ugmVMjl17K90BInw9L/QwIGQVyv9KCKMQORARyz8IHkQm0C3gCkUJvXpJWWV/k1rQh3wOBicn/lQJGjVuZwtWZ1EEpXHNLQgeXnsUeCNhU8CIhPiW7atAGPv7Ty6SkxOTcGlpRLktISEp69raOVuTxGXFJSQnPEKWiSrvSriQeuSEum7NuROOTRcIAoHooc5gWtEGki1Iu+ZTmKq5sIMEeSFOiq5HaJD3HEMxg06ryqLGinIzazjhajrmiKiMvL/0n3QTCWEvJyysqI5pp7ZXKCDsUqCSL3LAdx1kcqs7O/wUYrXahdnh2cCB/PiLlWtCedp8rzQhbIJh7Nsu2ubtvNTTx/jjI5zVFrRECftY8U0xL8mRHxAKa6ZVPG1BqOGcIANqH/TxdVurN+isNR7sZirNFetqmIRzO9pALj8n9DPy65J/hWY1ALvcUm+d84tTdIQNCiLRRtE9rx7+yHK91gzA4cxLCB2uPVvkrm/5HW5IeoOpfTC9lZIzHWEknHAzW3bUWnerF8BFofqwFKF5v5LifnbQCaUbErLOGpYhQcaGms02t/N9wZRaRDRBKxW4li1stMFwfMEti57vBtlZx1qJGDxgOGoSXeoouGYxUIle4T9A/14aEvypMQ8KRMbnQHKM5xiKN81hU3zf5eRQwxTObG0kyWEHU6teRkW/Q3NlihQ2QllRziQO0BCMlbZqw8OZgC2L6X9KmaYyVM+hr2hYpnYtoCB+cRJffp2ei3FnjVjIGiGrvaSju/cR5LChoH72fgTEGVxqHp2Gn1Ndya0soNkAwV/RUrqAhWjT9JCYdHOxa46wj8iYJ9E4BGGs/272rHLcnOYhtSaFPT3wymGDN8If9fElV91I5F6JBfO8mDQA/2SThuJQugxTEtXECNkA+7JCbfIu2fhJsuyE5elXZIJ+YdVTBMII2qgPivKc6v+pqH5rDFot7FNGak9ZnOuL2jCor44DMwifc2A8DwidYI0Rk7LK5lTDDJTZA3q0YN+1pGy2WcIQUMK+Y+VrL4+AbrLp+Jw7N8nOUm4LuNVqub3lmrxve0lWH1PvpSl+lL6TIP6Ew2YO+TQz0dO2Elbn43kGA826F9HjPzYj0tv4iUnXD7LdRgOLpQj7fXoMNkDdmo2d2WruPpYDZLD6Tn5dJyLNKduqaJyw/z/FQmhZAo1i003xPXvdp7Fa5KY8QBiAhwlL8j1h6sYDuGAuv/8KutAerSLO+Rk7R6Ei/q54pGM+pvwLCc64N2WTVjxEbIEkagF7nPkexUoABC5ABlJDyEA0NP+RHTdFGa+Nw3acLFkktf4dU9gU3V8rN8K5kmF6npCceZpvvB19CYOIbF1Fg1JgDQ7Dw80eKDZCnEwG9AsZhLyADUH20jrp/MUxOPWTiXdddfxDSdMcuupAUF+prZ2h0+CXjfIvzb7qXuZWjofanc4WA0c7sgRAznzzjST3JYK2y2QCJkwb08r8fSF0UHUj98QVuL7521LC3pwHjZVWU5dRXuD8oYyRaR46jyJpH3OvMlXjoCE2/wN7+rHGUUeZJSa9lrYnZAIlXAnSzu4HM+i4gn9ueO5g+wX09m+ulrOjo5uvjffbB+5rOctMYbSG59zX3psNRjtKyx7LZP6811NOHJ3XsNusoNRsgKTMA7c7Rv9iJPawsYhGqx8KYrA8lOJaf10XqaPiXFB2zcsIwnU1eL26W3GOjBex5fVk/9lZRXU5WzxU4nyr773tB6CA1sWVv+XvHRbZAMpaPUw+vpx8+lhayQTNfQ9tM7rEyZqrhxgSWn9OAnMx+NHdbIvNYX9icX61Le6T9Z1dVpTuNbFPw9gwN1tdM0zb3+dJvTMjBxmOXPeT7Tf7YAPm4S37StXIkncCOW1JKLiw99Vr/LT2WxvzX+VwWy88Jr2dpeN70XHCunrnyuCg7fnfPOb28VeLTn9PnwqklN1mdbZL3bO+xAmeX+71+B3HaXttK6pypHTIn6B8lNkDKArQVfGgdEXLRcQnDC/XM1yBq78UxPfdlrTBR3u5oc+Al8znSMSE1/55una91x1nk0g7Amn9mnWa5BLJZhNOvGwOU7aqudCCd3ysstkAaYhaK2MUjB6TUrSL2qW2DfWTl779NU1yawFweCHlbxi+5y9oGQG0RqtJb6CYDNea/5v9wFA0qJkhTYukrPEcP4QmxAUIs2iWn7YO0yNiA37VOfxm0WYoxBYQm7WUx5prCFk1YFcVanUDl52Sn+9MHvYqd5+1O4SgaraGWwkaXhm9W/TsEdrR1sKlg2U1QEW+bT7T4B10Vu1x7x4vBvwkBMnbDU5bZmoJ9asLGl1mNLOILJ8n5wZ/bW9oLLutPOV88qHf0EPnT2gnK/pUD62OCZBL5hw94QRRij42c8HlZaDZzTWyncEv+sTUyWmplterwK9zg311hDEz+u4EJPjXDXQMAxiwNZbYP2jL3qwEi+kutVln9oTlKLZqj+c88d2UFl7cDbNDbUUnp9QO7lWsCWz5E9xhFrfH0eI7rfSdbINSqqANL5ps5Br79nm50nYu5M4vhRU09YmliarLhOvPMR3P6UQuz303mzZ07d57J3B0fOJjgARv/1pdZlTag7eSg1g+Rl6896coa1LqiwdZz1FZ0Nu1LPlk5yH/vUdlZH6vxSN6H6gtzkV5ZSQstW5DrS2hdNNrl/EraEDfY/Drg3MNPTB0BMH2++d0yPKFnLmILBKK01WErK6ubBjmh3hXJyjrWASV8AxZTialuYa5SQEID8opKDE2VmFoiB/ZRc9RqSYuQgRWxtrf7DZ3C8zstFXLNg4ODXWjTlnXazt7R0dHBjvZBH0f7tdsiKpBUBVOObbKxs/H7SKurm5/72tvaI5fXbT5wLb2Jlq0xYavnur3prirB4guTjK8l5Zb3nIjnf0c5mIjaoDT5DHpAzUJj4maLrRElnauh8Nn+5vqPB/m6mrBlyitdjh9draK22M3vgKmSzlU6kPfes2WU5/sW0Yz79syjMxV07Q/6eu1da+p4jWa54IvCnFceTu7MCc0v/BePVdu873RCTwdt/gcC5p9WlbR/P6B7SWkuGrbPOysp4pdUXy1A5H5fN1NaMHVsCm7pUYPpPgmZCXvGqexILYpbLyN9owmkVVkResD4dVENtIxBqQ0yEJp+MvED6qGrurjZS3oXCkRt+2MXilFL1N3fpCE6c+s2zyc9hx/4HgjUdlFz/NLYAQ2ZULBH9ddHNDMSmVocsEJ9DCAS3teDG5IPh5T1HszPWmMdmN+By9wrYhZSA2KC5yrEMi6gzH6SuVHPSHDKY2uRBY+rCB2t7101lc/Qd9mCccm26ifz6CWZWn9r9VyPIjSmqWfbyfdAWmIshY0vVA/IwmqMsdC4Wc04BlO8nZx3G4wR66uEgNhbhn/l9jZMi73+zifDhOT1YpvSCHDb842GnWMSWca/6Ha7ND1aIrySjqH+6hzxva/pVSTUeGL64i6vwDt/OrDNCvwOBEI5yKmeHOBahLy9OmZdk8qUQMuzn7CuShL3+rgZxFxSsH/fG0hzNm3FZ0uIqahbMQnGfzi9kz78A5MT1cetyu6667qm0FZ60tcEzxXfkcIIHxS/QXlLBWODDt8ZB16yy0V8DgTK81NT2ZA+IJsZIjycObN7Yh78mFhKaTis3A+Qi3K2bIBQ2mhvaziiOuEMjgqTq18/pXsFQg1hKpMOdX8wI0Bc1Zte3dVcnyfp+q4z6T/5KZkn4mgPr909OaicnR3C50BwVxdIWQ7Qy5mKPS+18KsDLhXJtbX9lxB5u/d9+W3WOo5TuI201SC+oZae8GDhKfk5IZ1NNIRzFZ53nX6+0n2qwsWupG9+pKF1Do0cdGSvUY0lw1DvMsLfQFrfrh6ve7avMXcqobWDyUoiv3eVtHvZPVZK8237fiCYRb/Oi6M/BmSMQoMvdkku6/LT60CtF7WJIdM8qd79IToroXtj3/zZ0luyYVprtkj9FUyob+pVSPgbCGqXktLxrL4a9LLQXWeZ+l3ER2tFdxezmE3fDQT/arbklgzmM9T7i8duKOmsOxujFku50ZoW0rsjMjpepd13VdgrGKci/1eHzFa8l/XoVnKvypafgVDRZycrOKT3Oeb+cvN4S6ZJAELw/PFHWLNkf0DgqiB5++w+nIoqb2tN8S1gCUzgFBHXrtGbqjP64nui3qFeRB5bZXzw3ddcgd2nohKD/F8faaV1+FLgxaRez+dnIK1/m4qtju67B/LEQtiKCQg+UGfsSdY72AKBQCoikIy+IGf7rhWi0v/qcc+H48q6N5h9BmCS8xi1c13GXulO5TF6K+2tjJSNnR4UMw1AYfcqSIdRIJiMve64+kB4ae+OJx8DaXmxRk7nfD89kH/UZJ2YRhw7TmkKB7DewRZIcXTwpaCgy5d8Vovou569EoToQlSPkcsUR7H5LI7dFLSj0ILQruTNM/1VaoOv+3IlYduYKuYAYp3kJS7S2jxyaeKDxBI25Y9/gYCZhyYr7sno+waS39ipJ5nmOztOawn7s97CFsgbr8229vb2div0xyhZrHVADu1Xe/XY3+aBsfCKQubODy5pqdi6+K6C9HIKoB9WlO5nKuuUxVKjYp0UxE+U9tdr4lsglOqzqiIrXva9io3wcbfwtO8BUp4UFR4eHnH/6hbxeQF3HiDH4Xef9xiUDVYS3cFibGNDDOU8cxglBKr/n7LUhiywtejExNlnWVCOYCAN/ywSWhzazyQ6NshESPPEdwBpr8FiKiuxFe98ZFbGFdPmCCoxrOtJwVZf0UnHWQywokOTVG9UMYCAH31ktU8gLQwUqSpqW8ESKASIf/lIBNLxarnQBLcMND292Kko6k+J33T8WIBoDggI0kNBBFMrLsrZZbYz/mJte4kFe8YZX2EBgrIW1U7ozB7U59skFt6nlYxUo59msSybRRp1yYv9+irxK5C3+1SA/6jPX9inFsyU/Om3WYFMVU1HwLRejfpBJYm+BhehSqQfgmJbBFsT14pYRbJ4Nb0yGLswt/OYGrFs/Nq3tKyQuUZkWiyzPYDdJz/xfr9ft+BPIEgDoi0EfFNjzG8yZWNC8Lzx7i0sBmyji7z4//p4Rz8dw6YrxuJOb5grHlKEyvjVXTPUpDNTRu+hO/7nIxVZEPMSNMwGCZW4fqPGn0BwT9b88m0ewDjHx0zZmBS3TmzrV08DKpkEft4sLnKqqoNEZpNn+wFSuENe/FAmU+Eh5HhITFjbuXqVjN4EAC70WZfKkNnS+14xzVwXm401TOk3avwJpNxNfQA8gF/smIGQM/dLWCd0VSAQOi322i41YJSR660HaWy8AfsEAqXtRX6m7ZLSbWZ15B6aNgpQ98qiOTtQ3zupAICWex4VQozhRcC0o6juehPM0JfdmtNv1PgTCPaUzULThd/SgmX+b5nGiqjYS0rzLndZoeDH+1ddVxjO0J9v530mnM1WQiDmgoxNJpvNAMBIG8PperO2PO6eDse92Kmvp2Oy7zkNCCFpjcHMmQYObxEgpNJDM+bs/bpxf8MDdd0rGLg/8ScQStOXym8Lg21kdZtJMZq0sWugD6rMSI1//DAq+uGTxMRMNgUBxAQpOqDYlZDC2Oio6KgXld2lr634OXIiJo22eSzUXhIXhfyVRHf9IqIio59+/d7lR19Fyzf9++byJ5DvVOlhbYPu4bz2uurq2jpENdVV9Wx6BlDD88MhaHaDi201yK9qccRu+4Dc0oCcqW+ktSoQubUOeWxtA7nzLXVfvm4qELVM3aWmf4enfxWQ5uSVagF5A3RwhAg1eWWt3FzeANZ7TFke9o3Z5n8VEAgXMOePq80D9MkDyQQSlZvrG+pum2v+jfnGE/9VQGA4w2OO1c2y4dlboPLOqsVu3yyf/AwEasH1+fVbkICrr2/C94w+OWu78Z93PnNn457BCCRg723Wdyv65l70/AyEcPt8Xh8mC4TPuHLE9dQbXM8Koj3v5s6VLok/3Pu99dlm+/0hOd92luZjIFDpetu+aoCmpz7bdmywdQmv71UWsFFHjsdxY8vjwQhsS3Y69qhqAO5j/AuEigmbuegzBc/2g+Yo60X7ou7sULXoPWFCJXbUon/8ZoDtVY0DMhH4FgghK9B8nOph3ysfeicuiL06xSEF++XZbI2AQnY/xg/DXoADtNf4Fkhb/HZ5ES37DW6vcNTGUtR7VKcyc5thyhtneQ+kS9e4burGV8Md0EGKb4EQcn1mz/8rMi6tgtjx+swG2toZumx2ZcPkx5u0zyE5svGg0aqk4Q7oIMW3QMDWS1NtQ9F19R0QISfM18u7U8cCi2Hi9eXzbyL3NB2d92cCpy/6weJbIDB4Xmov40MSlPpS+qeK6cr+1AITzpgsCkUuNB6ZKwDyo0RGH5zoz3DKgigkwlcRQZgQONf4JiwA8kPVnrpdK5QxokquePXgfnin7sV8gUm3l045j1zAuS+wFrQhP0i42/bmyTCFSITg9hf+9mtsOmW1DQWTU7ZLHCHSFmgv2Cqwsn6Qaj3MrN7ClVkf8DCx6NnN6117MwaHYWBqgY+kPdK+FCzRPTNU3z0fKvEvEPc5s07H3nj4gQBTm7GfSz93qrS8A4Zw0SbzncOjfOdYpeKGO6CDFN8Cwd1cJmNi4xhJ8+theKh3idYlRp8yUV5iNt3q+oC2d+Al8S0QUtkjv7O348vZjy4SCiMCAgMvxZfz3QZafAsEhvGV6H5G0Yk1xWXDtDU/R+JjICCF3M/0G9I5IXN1AvYHiY+BjEwJgPCYBEB4TAIgPCYBEB6TAAiPSQCExyQAwmMSAOExCYDwmARAeEwCIDwmARAekwAIj0kAhMckAMJjEgDhMQmA8JgEQHhMAiA8JgEQHpMACI9JAITHJADCY/o/6yKuQ6VaXDoAAAAldEVYdGRhdGU6Y3JlYXRlADIwMTktMDUtMjhUMTQ6MzE6MzgrMDA6MDDbQVBmAAAAJXRFWHRkYXRlOm1vZGlmeQAyMDE5LTA1LTI4VDE0OjMxOjM4KzAwOjAwqhzo2gAAAABJRU5ErkJggg==)"
      ]
    },
    {
      "cell_type": "markdown",
      "metadata": {
        "id": "-fUkeBToHKNq"
      },
      "source": [
        "Usaremos o Exemplo 1 para aplicação da TIR"
      ]
    },
    {
      "cell_type": "code",
      "metadata": {
        "id": "M86K7uJd5ZWT"
      },
      "source": [
        "def TIR_tesouro(fluxo_caixa, interacoes = 100):\n",
        "    taxa = ((1+0.0439)**(1/12))-1\n",
        "    investimento = fluxo_caixa[0]\n",
        "\n",
        "    for i in range (1, interacoes +1):\n",
        "        taxa*= (1-VPL_tesouro(taxa, fluxo_caixa)/investimento)\n",
        "    return taxa"
      ],
      "execution_count": 36,
      "outputs": []
    },
    {
      "cell_type": "code",
      "metadata": {
        "colab": {
          "base_uri": "https://localhost:8080/"
        },
        "id": "-AfB8Ca35ZWU",
        "outputId": "846ac0c3-7550-4ba7-fe8a-c26ee5e28b00"
      },
      "source": [
        "VPL_tesouro(1, fluxo_caixa)"
      ],
      "execution_count": 37,
      "outputs": [
        {
          "output_type": "execute_result",
          "data": {
            "text/plain": [
              "-10691.079362761973"
            ]
          },
          "metadata": {
            "tags": []
          },
          "execution_count": 37
        }
      ]
    },
    {
      "cell_type": "code",
      "metadata": {
        "colab": {
          "base_uri": "https://localhost:8080/"
        },
        "id": "qN34OWdos3Do",
        "outputId": "6bfaaf32-002e-48be-83e3-16fa09cf3b31"
      },
      "source": [
        "TIRtesouro = round(TIR_tesouro(fluxo_caixa)* 100,3)\r\n",
        "print(f'A TIR do Tesouro é {TIRtesouro}%')"
      ],
      "execution_count": 38,
      "outputs": [
        {
          "output_type": "stream",
          "text": [
            "A TIR do Tesouro é 0.359%\n"
          ],
          "name": "stdout"
        }
      ]
    },
    {
      "cell_type": "markdown",
      "metadata": {
        "id": "bbkBmEY_Ax42"
      },
      "source": [
        "Usando o Numpy (irr)"
      ]
    },
    {
      "cell_type": "code",
      "metadata": {
        "colab": {
          "base_uri": "https://localhost:8080/"
        },
        "id": "M5Xla34q5ZWW",
        "outputId": "8588c41b-8f83-4ca3-e2af-705eddd02da5"
      },
      "source": [
        "TIR_tesouro = round(np.irr(fluxo_caixa)*100,3)\n",
        "print(f'A TIR do Tesouro é {TIR_tesouro}%')"
      ],
      "execution_count": 39,
      "outputs": [
        {
          "output_type": "stream",
          "text": [
            "A TIR do Tesouro é 0.359%\n"
          ],
          "name": "stdout"
        }
      ]
    },
    {
      "cell_type": "code",
      "metadata": {
        "id": "zE7qFSV65ZWb"
      },
      "source": [
        "def TIR_fundo(fluxo_caixa1, interacoes = 100):\n",
        "    taxa1 = 0.003945397770233639\n",
        "    investimento1 = fluxo_caixa1[0]\n",
        "\n",
        "    for i in range (1, interacoes +1):\n",
        "        taxa1*= (1-VPL_fundo(taxa1, fluxo_caixa1)/investimento1)\n",
        "    return taxa1"
      ],
      "execution_count": 40,
      "outputs": []
    },
    {
      "cell_type": "code",
      "metadata": {
        "colab": {
          "base_uri": "https://localhost:8080/"
        },
        "id": "vqYFg1Sz5ZWc",
        "outputId": "4900a381-ee8f-4344-f4a1-8c4358d5d30d"
      },
      "source": [
        "VPL_fundo(1, fluxo_caixa1)"
      ],
      "execution_count": 41,
      "outputs": [
        {
          "output_type": "execute_result",
          "data": {
            "text/plain": [
              "-14894.999112188816"
            ]
          },
          "metadata": {
            "tags": []
          },
          "execution_count": 41
        }
      ]
    },
    {
      "cell_type": "code",
      "metadata": {
        "colab": {
          "base_uri": "https://localhost:8080/"
        },
        "id": "GE0m48nNxFlT",
        "outputId": "2f35d6dc-ff4c-42d0-cd52-76b360288f26"
      },
      "source": [
        "TIRfundo = round(TIR_fundo(fluxo_caixa1)* 100,2)\r\n",
        "print(f'A TIR do Fundo é {TIRfundo}%')"
      ],
      "execution_count": 42,
      "outputs": [
        {
          "output_type": "stream",
          "text": [
            "A TIR do Fundo é 0.7%\n"
          ],
          "name": "stdout"
        }
      ]
    },
    {
      "cell_type": "markdown",
      "metadata": {
        "id": "IIuEkal3ApfB"
      },
      "source": [
        "Usando o Numpy (irr)"
      ]
    },
    {
      "cell_type": "code",
      "metadata": {
        "colab": {
          "base_uri": "https://localhost:8080/"
        },
        "id": "4Clz9yI05ZWd",
        "outputId": "0a9fe32a-c879-4a52-d451-60b2e7f70c3d"
      },
      "source": [
        "TIR_fundo = round(np.irr(fluxo_caixa1)*100,2)\r\n",
        "print(f'A TIR do Fundo é {TIR_fundo}%')"
      ],
      "execution_count": 43,
      "outputs": [
        {
          "output_type": "stream",
          "text": [
            "A TIR do Fundo é 0.7%\n"
          ],
          "name": "stdout"
        }
      ]
    },
    {
      "cell_type": "markdown",
      "metadata": {
        "id": "TBk5mtxu96-n"
      },
      "source": [
        ""
      ]
    }
  ]
}